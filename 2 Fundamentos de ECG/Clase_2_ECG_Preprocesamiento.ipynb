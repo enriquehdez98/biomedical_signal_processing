{
  "nbformat": 4,
  "nbformat_minor": 0,
  "metadata": {
    "colab": {
      "provenance": []
    },
    "kernelspec": {
      "name": "python3",
      "display_name": "Python 3"
    },
    "language_info": {
      "name": "python"
    }
  },
  "cells": [
    {
      "cell_type": "markdown",
      "source": [
        "# 🐍 Python + Señales Biomédicas  \n",
        "\n",
        "Es posible trabajar con señales biomédicas del repositorio **PhysioNet** directamente desde Python usando el paquete **`wfdb`**.  \n",
        "\n",
        "`wfdb` es un paquete especializado para manipular bases de datos fisiológicas (ECG, PPG, EEG, presión arterial, etc.).  \n",
        "Fue creado como interfaz a la librería clínica **WaveForm DataBase (WFDB)** ampliamente usada en investigación biomédica.  \n",
        "\n",
        "---\n",
        "\n",
        "## 🔹 Instalación en Colab  \n",
        "\n",
        "```python\n",
        "!pip install wfdb\n",
        "```"
      ],
      "metadata": {
        "id": "de0pjJGj_yb4"
      }
    },
    {
      "cell_type": "code",
      "source": [],
      "metadata": {
        "id": "GlsYpOZqFd7l"
      },
      "execution_count": null,
      "outputs": []
    },
    {
      "cell_type": "code",
      "source": [
        "import wfdb\n",
        "import numpy as np\n",
        "import matplotlib.pyplot as plt\n",
        "import pandas as pd\n",
        "from scipy.signal import iirnotch, filtfilt"
      ],
      "metadata": {
        "id": "5BmNyQNma3OD"
      },
      "execution_count": 3,
      "outputs": []
    },
    {
      "cell_type": "markdown",
      "source": [
        "# Cargar datos desde Physionet:\n",
        "\n",
        "En esta practica trabajaremos con el repositorio **arritmias del MIT-BIH** (disponible en:\n",
        "https://physionet.org/content/mitdb/1.0.0/)\n",
        "\n",
        "La base de datos de arritmias del MIT-BIH contiene 48 extractos de media hora de grabaciones de ECG ambulatorio de dos canales, obtenidos de 47 sujetos estudiados por el Laboratorio de Arritmias del BIH.\n",
        "\n",
        "\n",
        "Es importante reconocer que los conjuntos de datos en PhysioNet contiene lo siguiente:\n",
        "\n",
        "\n",
        "* **.hea → Header file**: Contiene metadatos del registro:\n",
        "\n",
        "  * Frecuencia de muestreo (fs)\n",
        "\n",
        "  * Número de canales (derivaciones)\n",
        "\n",
        "  * Duración en muestras\n",
        "\n",
        "  * Nombre de los archivos de datos\n",
        "\n",
        "  * Ganancia y unidades de cada canal\n",
        "\n",
        "* **.dat → Data file**: Señal fisiológica cruda en formato binario (ECG, PPG, EEG, etc.).\n",
        "\n",
        "* **.atr → Annotations**: (beat annotation)\n",
        "Contiene anotaciones manuales de latidos cardíacos (tipo: normal, PVC, fibrilación, etc.) o eventos clínicos."
      ],
      "metadata": {
        "id": "76XhiEfuCMK9"
      }
    },
    {
      "cell_type": "code",
      "source": [],
      "metadata": {
        "id": "Zle1Yjf9CLrL"
      },
      "execution_count": 34,
      "outputs": []
    },
    {
      "cell_type": "markdown",
      "source": [
        "## Funciones principales de wfdb\n",
        "Lectura de señales fisiológicas\n",
        "\n",
        "* wfdb.rdrecord() → carga un registro completo (ej. ECG continuo, PPG, etc.).\n",
        "\n",
        "* wfdb.rdann() → carga anotaciones (latidos, diagnósticos, etc.).\n",
        "\n",
        "* wfdb.rdsamp() → otra forma de leer señales + metadatos en un solo paso."
      ],
      "metadata": {
        "id": "D3XeMLTyBCij"
      }
    },
    {
      "cell_type": "code",
      "source": [
        "# Cargar un registro de la base MIT-BIH Arrhythmia"
      ],
      "metadata": {
        "id": "ywx10EXuBB_t"
      },
      "execution_count": 38,
      "outputs": []
    },
    {
      "cell_type": "markdown",
      "source": [
        "El objeto record es de tipo wfdb.io.record.Record, que funciona como un contenedor de toda la señal.\n",
        "\n",
        "Atributos más importantes de record:\n",
        "\n",
        "* record.fs → frecuencia de muestreo (ej. 360 Hz).\n",
        "\n",
        "* record.sig_name → nombres de los canales (ej. ['MLII', 'V5']).\n",
        "\n",
        "* record.n_sig → número de señales.\n",
        "\n",
        "* record.sig_len → número total de muestras.\n",
        "\n",
        "* record.p_signal → señal en un numpy.ndarray de forma (muestras, canales).\n",
        "\n",
        "* record.base_datetime → fecha/hora de inicio (si está disponible).\n",
        "\n",
        "* record.comments → comentarios del encabezado."
      ],
      "metadata": {
        "id": "RcQJ7WNPEoak"
      }
    },
    {
      "cell_type": "code",
      "source": [],
      "metadata": {
        "id": "aUzT8c7lEnwq"
      },
      "execution_count": 55,
      "outputs": []
    },
    {
      "cell_type": "code",
      "source": [
        "# Seleccionar todo el ECG del primer canal\n",
        "\n",
        "\n",
        "# Vector de tiempo desde 0 hasta la duración total\n"
      ],
      "metadata": {
        "id": "4sXNyFBUcF3r"
      },
      "execution_count": 56,
      "outputs": []
    },
    {
      "cell_type": "markdown",
      "source": [
        "# 📊 Graficar un ECG en Python\n",
        "\n",
        "Para visualizar una señal de ECG en Python usamos la librería **Matplotlib**.\n",
        "\n",
        "Para ello se deben seguir los siguientes pasos:\n",
        "\n",
        "* Crear un figure: plt.figure(figsize=(12,4))\n",
        "\n",
        "* Crear la grafica: plt.plot(x, y, color='blue')\n",
        "\n",
        "* congigurar el plot:\n",
        "  * plt.title(f\" \")\n",
        "  * plt.xlabel(f\" \")\n",
        "  * plt.ylabel(f\" \")\n",
        "  * plt.grid(True)\n",
        "\n",
        "* Mostrar el grafico: plt.show()"
      ],
      "metadata": {
        "id": "O1-oI0k_GzMY"
      }
    },
    {
      "cell_type": "code",
      "source": [
        "# Graficar"
      ],
      "metadata": {
        "id": "dGPGGoQZGXno"
      },
      "execution_count": 57,
      "outputs": []
    },
    {
      "cell_type": "markdown",
      "source": [
        "Ahora deberemos delimitar el ECG al periodo de interés"
      ],
      "metadata": {
        "id": "CBj1BvGJH1ks"
      }
    },
    {
      "cell_type": "code",
      "source": [
        "# Duración a graficar en segundos\n",
        "# 5 segundos\n",
        "\n",
        "# Número de muestras correspondientes\n",
        "\n",
        "\n",
        "# Sub-señal y sub-tiempo\n",
        "\n",
        "\n",
        "# Graficar"
      ],
      "metadata": {
        "id": "zYgZU5xVbVg6"
      },
      "execution_count": 58,
      "outputs": []
    },
    {
      "cell_type": "markdown",
      "source": [
        "# Preprocesamiento en señales biomédicas\n",
        "\n",
        "**El preprocesamiento es la etapa inicial del análisis de señales biomédicas, cuyo objetivo es mejorar la calidad de la señal antes de aplicar cualquier técnica de análisis o extracción de características. Esto es crucial porque las señales biomédicas, como el ECG, EEG o EMG, son muy sensibles al ruido y a interferencias externas.**\n",
        "\n",
        "Durante el preprocesamiento se realizan tareas como:\n",
        "\n",
        "- Eliminación de artefactos (movimiento, parpadeo, respiración, etc.)\n",
        "\n",
        "- Filtrado de ruido eléctrico\n",
        "\n",
        "- Normalización o escalado de la señal\n",
        "\n",
        "- Segmentación o selección de ventanas de interés\n",
        "\n",
        "\n",
        "## Eliminación de ruido eléctrico\n",
        "\n",
        "El ruido eléctrico es muy común en señales biomédicas y puede provenir de:\n",
        "\n",
        "Interferencias de la red eléctrica (50 o 60 Hz según el país)\n",
        "\n",
        "Equipos electrónicos cercanos\n",
        "\n",
        "Mal contacto de electrodos\n",
        "\n",
        "Este ruido puede enmascarar la información real de la señal, por lo que es fundamental eliminarlo antes de cualquier análisis."
      ],
      "metadata": {
        "id": "edbzg2wIIxLQ"
      }
    },
    {
      "cell_type": "code",
      "source": [
        "# ---------- FFT ----------\n",
        "          # número de muestras\n",
        "          # transformada\n",
        "          # magnitud normalizada\n",
        "          # vector de frecuencias\n",
        "\n",
        "# ---------- Gráficas ----------"
      ],
      "metadata": {
        "id": "_CAdIaC-7mQC"
      },
      "execution_count": 59,
      "outputs": []
    },
    {
      "cell_type": "markdown",
      "source": [
        "# Filtro Notch\n",
        "\n",
        "Una técnica muy usada para eliminar ruido eléctrico de frecuencia específica es el filtro Notch.\n",
        "\n",
        "El filtro Notch es un filtro muy selectivo que atenúa una frecuencia determinada sin afectar mucho las demás frecuencias de la señal.\n",
        "\n",
        "* f0 es la frecuencia que queremos eliminar.\n",
        "\n",
        "* Q controla qué tan estrecho es el “corte”: mayor Q = más selectivo.\n",
        "\n",
        "* filtfilt aplica el filtro de manera que no introduce desfase en la señal.\n",
        "\n",
        "Por ejemplo, en países con red eléctrica a 60 Hz, se usa un notch en 60 Hz para eliminar el zumbido de la red.\n",
        "\n",
        "Matemáticamente, un filtro Notch puede diseñarse para cortar una banda muy estrecha alrededor de la frecuencia de interferencia.\n",
        "\n"
      ],
      "metadata": {
        "id": "ATsidnmrJym-"
      }
    },
    {
      "cell_type": "code",
      "source": [
        "# Frecuencia a eliminar\n",
        " # Hz\n",
        "\n",
        "# Factor de calidad (determina el ancho de banda del filtro)\n",
        "# Un valor más alto significa un filtro más estrecho\n",
        "\n",
        "# Diseño del filtro notch usando f0, Q y fs\n",
        "\n",
        "\n",
        "# Aplicar el filtro a la señal\n",
        "\n",
        "# Graficar la señal filtrada\n"
      ],
      "metadata": {
        "id": "SgcWHanc8gzy"
      },
      "execution_count": 60,
      "outputs": []
    }
  ]
}